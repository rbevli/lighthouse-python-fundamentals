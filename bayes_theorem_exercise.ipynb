{
 "cells": [
  {
   "cell_type": "markdown",
   "metadata": {
    "ExecuteTime": {
     "end_time": "2020-02-05T17:56:18.818219Z",
     "start_time": "2020-02-05T17:56:18.810698Z"
    }
   },
   "source": [
    "## Exercise 1\n",
    "In Orange County, 51% of the adults are males. (It doesn't take too much advanced\n",
    "mathematics to deduce that the other 49% are females.) One adult is randomly selected\n",
    "for a survey involving credit card usage.\n",
    "\n",
    "- **(a)** Find the probability that the selected person is a male.\n",
    "\n",
    "- **(b)** It is later learned that the selected survey subject was smoking a cigar. Also, 9.5% of males smoke cigars, whereas 1.7% of females smoke cigars (based on data from the Substance Abuse and Mental Health Services Administration). Use this additional information to find the probability that the cigar−smoking respondent is a male\n",
    "\n",
    "Use following notation:\n",
    "M = male <br>\n",
    "F = female <br>\n",
    "C = cigar smoker<br>\n",
    "NC = not a cigar smoker<br>\n"
   ]
  },
  {
   "cell_type": "code",
   "execution_count": 2,
   "metadata": {},
   "outputs": [],
   "source": [
    "import numpy as np"
   ]
  },
  {
   "cell_type": "code",
   "execution_count": null,
   "metadata": {},
   "outputs": [],
   "source": []
  },
  {
   "cell_type": "code",
   "execution_count": null,
   "metadata": {},
   "outputs": [],
   "source": []
  },
  {
   "cell_type": "markdown",
   "metadata": {
    "ExecuteTime": {
     "end_time": "2020-02-05T17:56:20.532960Z",
     "start_time": "2020-02-05T17:56:20.525450Z"
    }
   },
   "source": [
    "# Exercise 2\n",
    "\n",
    "A diagnostic test has a probability 0.95 of giving a positive result when applied to a person suffering\n",
    "from a certain disease, and a probability 0.10 of giving a (false) positive when applied to a non-sufferer. It is\n",
    "estimated that 0.5 % of the population are sufferers. Suppose that the test is now administered to a person about\n",
    "whom we have no relevant information relating to the disease (apart from the fact that he/she comes from this\n",
    "population). \n",
    "\n",
    "Calculate the following probabilities:\n",
    "- **(a)** that the test result will be positive;\n",
    "- **(b)** that, given a positive result, the person is a sufferer;\n",
    "- **(c)** that, given a negative result, the person is a non-sufferer;\n",
    "- **(d)** that the person will be misclassified.\n",
    "\n",
    "Use following notation:\n",
    "\n",
    "T = test positive <br>\n",
    "NT = test negative<br>\n",
    "S = sufferer<br>\n",
    "NS = non-sufferer<br>\n",
    "M = misclassified<br>\n",
    "\n",
    "Solve it by two approaches:\n",
    "1. Arithmetically\n",
    "2. By simulation"
   ]
  },
  {
   "cell_type": "code",
   "execution_count": 1,
   "metadata": {},
   "outputs": [],
   "source": [
    "#arithmetically\n",
    "#a) 0.95*0.5+0.1*0.5 = .525\n",
    "#b) p(s|P) = p(s)p(P|s)/p(P) = 0.5*.95/.525 = ~.905 (NP = 1-0.525 = 0.475)\n",
    "#c) p(ns|NP) = p(ns)p(nP|ns)/p(NP) = 0.5*.9/.475 = ~.947\n",
    "#d) false positive "
   ]
  },
  {
   "cell_type": "code",
   "execution_count": 7,
   "metadata": {},
   "outputs": [
    {
     "name": "stdout",
     "output_type": "stream",
     "text": [
      "50.07\n",
      "47.370000000000005\n",
      "2.7\n",
      "49.93\n",
      "15.079999999999998\n",
      "34.849999999999994\n",
      "62.45\n",
      "37.55\n"
     ]
    }
   ],
   "source": [
    "runs = 10000\n",
    "\n",
    "T = 0\n",
    "TS = 0\n",
    "TNS = 0\n",
    "NT = 0\n",
    "NTS = 0\n",
    "NTNS = 0\n",
    "S = 0\n",
    "NS = 0\n",
    "\n",
    "for _ in range(runs):\n",
    "    if np.random.random() < 0.5: \n",
    "        S += 1\n",
    "\n",
    "        if np.random.random() < 0.95:\n",
    "            TS += 1\n",
    "            T +=1\n",
    "\n",
    "        else:\n",
    "            NTS += 1\n",
    "            NT += 1\n",
    "\n",
    "    else:\n",
    "        NS += 1\n",
    "\n",
    "        if np.random.random() < 0.3:\n",
    "            TNS += 1\n",
    "            T += 1\n",
    "\n",
    "        else:\n",
    "            NTNS += 1\n",
    "            NT +=1\n",
    "            \n",
    "pS = S/runs*100\n",
    "print(\"{}\".format(pS))\n",
    "pST = TS/runs*100\n",
    "print(\"{}\".format(pST))\n",
    "pSF = NTS/runs*100\n",
    "print(\"{}\".format(pSF))\n",
    "pNS = NS/runs*100\n",
    "print(\"{}\".format(pNS))\n",
    "pNST = TNS/runs*100\n",
    "print(\"{}\".format(pNST))\n",
    "pNSF = NTNS/runs*100\n",
    "print(\"{}\".format(pNSF))\n",
    "pT = T/runs*100\n",
    "print(\"{}\".format(pT))\n",
    "pF= NT/runs*100\n",
    "print(\"{}\".format(pF))"
   ]
  },
  {
   "cell_type": "code",
   "execution_count": null,
   "metadata": {},
   "outputs": [],
   "source": []
  }
 ],
 "metadata": {
  "kernelspec": {
   "display_name": "Python 3 (ipykernel)",
   "language": "python",
   "name": "python3"
  },
  "language_info": {
   "codemirror_mode": {
    "name": "ipython",
    "version": 3
   },
   "file_extension": ".py",
   "mimetype": "text/x-python",
   "name": "python",
   "nbconvert_exporter": "python",
   "pygments_lexer": "ipython3",
   "version": "3.9.7"
  },
  "toc": {
   "base_numbering": 1,
   "nav_menu": {},
   "number_sections": true,
   "sideBar": true,
   "skip_h1_title": false,
   "title_cell": "Table of Contents",
   "title_sidebar": "Contents",
   "toc_cell": false,
   "toc_position": {},
   "toc_section_display": true,
   "toc_window_display": false
  },
  "varInspector": {
   "cols": {
    "lenName": 16,
    "lenType": 16,
    "lenVar": 40
   },
   "kernels_config": {
    "python": {
     "delete_cmd_postfix": "",
     "delete_cmd_prefix": "del ",
     "library": "var_list.py",
     "varRefreshCmd": "print(var_dic_list())"
    },
    "r": {
     "delete_cmd_postfix": ") ",
     "delete_cmd_prefix": "rm(",
     "library": "var_list.r",
     "varRefreshCmd": "cat(var_dic_list()) "
    }
   },
   "types_to_exclude": [
    "module",
    "function",
    "builtin_function_or_method",
    "instance",
    "_Feature"
   ],
   "window_display": false
  }
 },
 "nbformat": 4,
 "nbformat_minor": 4
}
